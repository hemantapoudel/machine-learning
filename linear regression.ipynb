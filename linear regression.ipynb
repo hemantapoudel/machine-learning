{
 "cells": [
  {
   "cell_type": "code",
   "execution_count": 10,
   "id": "ed1fb585",
   "metadata": {},
   "outputs": [],
   "source": [
    "import numpy as np\n",
    "import pandas as pd\n",
    "import matplotlib.pyplot as plt"
   ]
  },
  {
   "cell_type": "code",
   "execution_count": 11,
   "id": "58dc1390",
   "metadata": {},
   "outputs": [],
   "source": [
    "#price and the no. of tshirts sold data\n",
    "data = {\n",
    "    \"price\":[200,250,300,350,400,450,500,550,600],\n",
    "    \"tshirts\":[6,5,7,8,10,10,15,16,12]\n",
    "}"
   ]
  },
  {
   "cell_type": "code",
   "execution_count": 12,
   "id": "b76cd759",
   "metadata": {},
   "outputs": [
    {
     "data": {
      "text/html": [
       "<div>\n",
       "<style scoped>\n",
       "    .dataframe tbody tr th:only-of-type {\n",
       "        vertical-align: middle;\n",
       "    }\n",
       "\n",
       "    .dataframe tbody tr th {\n",
       "        vertical-align: top;\n",
       "    }\n",
       "\n",
       "    .dataframe thead th {\n",
       "        text-align: right;\n",
       "    }\n",
       "</style>\n",
       "<table border=\"1\" class=\"dataframe\">\n",
       "  <thead>\n",
       "    <tr style=\"text-align: right;\">\n",
       "      <th></th>\n",
       "      <th>price</th>\n",
       "      <th>tshirts</th>\n",
       "    </tr>\n",
       "  </thead>\n",
       "  <tbody>\n",
       "    <tr>\n",
       "      <th>0</th>\n",
       "      <td>200</td>\n",
       "      <td>6</td>\n",
       "    </tr>\n",
       "    <tr>\n",
       "      <th>1</th>\n",
       "      <td>250</td>\n",
       "      <td>5</td>\n",
       "    </tr>\n",
       "    <tr>\n",
       "      <th>2</th>\n",
       "      <td>300</td>\n",
       "      <td>7</td>\n",
       "    </tr>\n",
       "    <tr>\n",
       "      <th>3</th>\n",
       "      <td>350</td>\n",
       "      <td>8</td>\n",
       "    </tr>\n",
       "    <tr>\n",
       "      <th>4</th>\n",
       "      <td>400</td>\n",
       "      <td>10</td>\n",
       "    </tr>\n",
       "    <tr>\n",
       "      <th>5</th>\n",
       "      <td>450</td>\n",
       "      <td>10</td>\n",
       "    </tr>\n",
       "    <tr>\n",
       "      <th>6</th>\n",
       "      <td>500</td>\n",
       "      <td>15</td>\n",
       "    </tr>\n",
       "    <tr>\n",
       "      <th>7</th>\n",
       "      <td>550</td>\n",
       "      <td>16</td>\n",
       "    </tr>\n",
       "    <tr>\n",
       "      <th>8</th>\n",
       "      <td>600</td>\n",
       "      <td>12</td>\n",
       "    </tr>\n",
       "  </tbody>\n",
       "</table>\n",
       "</div>"
      ],
      "text/plain": [
       "   price  tshirts\n",
       "0    200        6\n",
       "1    250        5\n",
       "2    300        7\n",
       "3    350        8\n",
       "4    400       10\n",
       "5    450       10\n",
       "6    500       15\n",
       "7    550       16\n",
       "8    600       12"
      ]
     },
     "execution_count": 12,
     "metadata": {},
     "output_type": "execute_result"
    }
   ],
   "source": [
    "pd.DataFrame(data)"
   ]
  },
  {
   "cell_type": "code",
   "execution_count": 13,
   "id": "7cbe8080",
   "metadata": {},
   "outputs": [],
   "source": [
    "n=len(data['price'])\n",
    "xy = [x*y for x,y in zip(data['price'],data['tshirts'])]\n",
    "sum_xy=sum(xy)\n",
    "sum_x=sum(data['price'])\n",
    "sum_y=sum(data['tshirts'])\n",
    "x_square = [x**2 for x in data[\"price\"]]\n",
    "sum_x_square = sum(x_square)\n",
    "sum_x_whole_square = sum_x**2"
   ]
  },
  {
   "cell_type": "code",
   "execution_count": 14,
   "id": "b8866c33",
   "metadata": {},
   "outputs": [
    {
     "data": {
      "image/png": "[encoded data removed]",
      "text/plain": [
       "<Figure size 432x288 with 1 Axes>"
      ]
     },
     "metadata": {
      "needs_background": "light"
     },
     "output_type": "display_data"
    }
   ],
   "source": [
    "#matplotlib scatter plot\n",
    "plt.scatter(data['price'],data['tshirts'])\n",
    "plt.show()\n"
   ]
  },
  {
   "cell_type": "code",
   "execution_count": 15,
   "id": "a5cee7a1",
   "metadata": {},
   "outputs": [
    {
     "name": "stdout",
     "output_type": "stream",
     "text": [
      "0.025 -0.1111111111111111\n"
     ]
    }
   ],
   "source": [
    "slope = (n*sum_xy-sum_x*sum_y)/(n*sum_x_square-sum_x_whole_square)\n",
    "c = (sum_y-slope*sum_x)/n\n",
    "print(slope,c)"
   ]
  },
  {
   "cell_type": "code",
   "execution_count": 16,
   "id": "a6ffc868",
   "metadata": {},
   "outputs": [
    {
     "data": {
      "image/png": "[encoded data removed]",
      "text/plain": [
       "<Figure size 432x288 with 1 Axes>"
      ]
     },
     "metadata": {
      "needs_background": "light"
     },
     "output_type": "display_data"
    }
   ],
   "source": [
    "#plotting the best fit regression line on the basis of equation y = 0.025x - 0.11\n",
    "x = np.linspace(1,1000,100)\n",
    "y = slope*x+c\n",
    "plt.scatter(data['price'],data['tshirts'])\n",
    "plt.plot(x, y, '-r', label='y=2x+1')\n",
    "plt.xlabel('price')\n",
    "plt.ylabel('No. of tshirts sold')\n",
    "plt.grid()\n",
    "plt.show()"
   ]
  },
  {
   "cell_type": "code",
   "execution_count": 17,
   "id": "7d0d0b0a",
   "metadata": {},
   "outputs": [
    {
     "name": "stdout",
     "output_type": "stream",
     "text": [
      "10.5139\n"
     ]
    }
   ],
   "source": [
    "#predicting the no. of tshirts sold of the price 425\n",
    "print(slope*425-0.1111)"
   ]
  }
 ],
 "metadata": {
  "kernelspec": {
   "display_name": "Python 3 (ipykernel)",
   "language": "python",
   "name": "python3"
  },
  "language_info": {
   "codemirror_mode": {
    "name": "ipython",
    "version": 3
   },
   "file_extension": ".py",
   "mimetype": "text/x-python",
   "name": "python",
   "nbconvert_exporter": "python",
   "pygments_lexer": "ipython3",
   "version": "3.9.15"
  }
 },
 "nbformat": 4,
 "nbformat_minor": 5
}
